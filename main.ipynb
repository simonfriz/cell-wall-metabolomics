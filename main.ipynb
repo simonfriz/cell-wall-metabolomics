{
 "cells": [
  {
   "cell_type": "markdown",
   "metadata": {},
   "source": [
    "### Imports"
   ]
  },
  {
   "cell_type": "code",
   "execution_count": 1,
   "metadata": {},
   "outputs": [],
   "source": [
    "from src.processing import *\n",
    "from src.analysis import *\n",
    "from src.workflows import *\n",
    "from src.visualization import *\n"
   ]
  },
  {
   "cell_type": "markdown",
   "metadata": {},
   "source": [
    "### Identify metabolites based on accurate mass only (from database with sum formulas and given adducts)"
   ]
  },
  {
   "cell_type": "code",
   "execution_count": null,
   "metadata": {},
   "outputs": [],
   "source": [
    "df_neg = id_by_accurate_mass(\"data/MS/standards/neg\", \"negative\", remove_qbic=False)\n",
    "df_pos = id_by_accurate_mass(\"data/MS/standards/pos\", \"positive\", remove_qbic=False)\n",
    "\n",
    "df = combine_neg_pos_ids(df_neg, df_pos)\n",
    "\n",
    "df_mean, df_std, df_change = get_mean_std_change_df(\n",
    "    df, [(\"C_F\", \"T_F\"), (\"C_C\", \"T_C\"), (\"C_FC\", \"T_FC\")]\n",
    ")\n",
    "\n",
    "plot_intensities(\n",
    "    df_mean,\n",
    "    df_std,\n",
    "    title=\"Bs. FOS Bruker: 200-1000 m/z pos/neg (n=2)\",\n",
    "    ylabel=\"intensity (AUC)\",\n",
    ")\n",
    "\n",
    "plot_fold_change(\n",
    "    df_change,\n",
    "    title=\"Bs. FOS Bruker: 200-1000 m/z pos/neg (n=2)\",\n",
    "    ylabel=\"log 2 fold change\",\n",
    ")\n",
    "\n",
    "plot_fold_change_heatmap(df_change, title=\"Bs. FOS Bruker: 200-1000 m/z pos/neg (n=2)\")\n"
   ]
  },
  {
   "cell_type": "markdown",
   "metadata": {},
   "source": [
    "### Identify metabolites based on curated library with known sum formulas, adducts and retention times"
   ]
  },
  {
   "cell_type": "code",
   "execution_count": null,
   "metadata": {},
   "outputs": [],
   "source": [
    "df_neg = id_by_mz_and_rt(\n",
    "    \"/media/axel/DATA1/Metabolomics/20220119_Bs_neg_Gemini_Orbitrap_200-1200\", polarity=\"negative\", remove_qbic=False, plot_intermediate_results = True\n",
    ")\n",
    "\n",
    "df_pos = id_by_mz_and_rt(\n",
    "    \"/media/axel/DATA1/Metabolomics/20220119_Bs_pos_Gemini_Orbitrap_200-1200\", polarity=\"positive\", remove_qbic=False, plot_intermediate_results = True\n",
    ")\n",
    "\n",
    "df = combine_neg_pos_ids(df_pos, df_neg)\n",
    "plot_result_df(df)\n",
    "\n",
    "df_mean, df_std, df_change = get_mean_std_change_df(\n",
    "    df, [(\"C_F\", \"T_F\"), (\"C_C\", \"T_C\"), (\"C_FC\", \"T_FC\")]\n",
    ")\n",
    "\n",
    "plot_intensities(\n",
    "    df_mean,\n",
    "    df_std,\n",
    "    title=\"FFMID: Bs. FOS Bruker: 200-1200 m/z pos/neg (n=2)\",\n",
    "    ylabel=\"intensity (AUC)\",\n",
    ")\n",
    "\n",
    "plot_fold_change(\n",
    "    df_change,\n",
    "    title=\"FFMID: Bs. FOS Bruker: 200-1200 m/z pos/neg (n=2)\",\n",
    "    ylabel=\"log 2 fold change\",\n",
    ")\n",
    "\n",
    "plot_fold_change_heatmap(df_change, title=\"FFMID: Bs. FOS Bruker: 200-1200 m/z pos/neg (n=2)\")"
   ]
  }
 ],
 "metadata": {
  "interpreter": {
   "hash": "cdf6867db4a629fa485a7e970eded95f5d4ef0f92693ff21a204d40206e2f07f"
  },
  "kernelspec": {
   "display_name": "Python 3.9.7 64-bit ('pyopenms-nightly': virtualenv)",
   "language": "python",
   "name": "python3"
  },
  "language_info": {
   "codemirror_mode": {
    "name": "ipython",
    "version": 3
   },
   "file_extension": ".py",
   "mimetype": "text/x-python",
   "name": "python",
   "nbconvert_exporter": "python",
   "pygments_lexer": "ipython3",
   "version": "3.9.7"
  },
  "orig_nbformat": 4
 },
 "nbformat": 4,
 "nbformat_minor": 2
}
