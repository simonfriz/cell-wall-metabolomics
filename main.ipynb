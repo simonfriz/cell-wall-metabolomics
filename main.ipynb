{
 "cells": [
  {
   "cell_type": "code",
   "execution_count": 5,
   "metadata": {},
   "outputs": [
    {
     "ename": "RuntimeError",
     "evalue": "MassTraceDetection: Wrong parameter type 'integer' for float parameter 'mass_error_ppm' given!",
     "output_type": "error",
     "traceback": [
      "\u001b[0;31m---------------------------------------------------------------------------\u001b[0m",
      "\u001b[0;31mRuntimeError\u001b[0m                              Traceback (most recent call last)",
      "\u001b[0;32m/tmp/ipykernel_47359/126105053.py\u001b[0m in \u001b[0;36m<module>\u001b[0;34m\u001b[0m\n\u001b[1;32m      4\u001b[0m \u001b[0;32mfrom\u001b[0m \u001b[0msrc\u001b[0m\u001b[0;34m.\u001b[0m\u001b[0mvisualization\u001b[0m \u001b[0;32mimport\u001b[0m \u001b[0;34m*\u001b[0m\u001b[0;34m\u001b[0m\u001b[0;34m\u001b[0m\u001b[0m\n\u001b[1;32m      5\u001b[0m \u001b[0;34m\u001b[0m\u001b[0m\n\u001b[0;32m----> 6\u001b[0;31m \u001b[0mdf_neg\u001b[0m \u001b[0;34m=\u001b[0m \u001b[0mid_by_accurate_mass\u001b[0m\u001b[0;34m(\u001b[0m\u001b[0;34m'data/MS/standards/neg'\u001b[0m\u001b[0;34m,\u001b[0m \u001b[0;34m'negative'\u001b[0m\u001b[0;34m,\u001b[0m \u001b[0mremove_qbic\u001b[0m\u001b[0;34m=\u001b[0m\u001b[0;32mFalse\u001b[0m\u001b[0;34m)\u001b[0m\u001b[0;34m\u001b[0m\u001b[0;34m\u001b[0m\u001b[0m\n\u001b[0m\u001b[1;32m      7\u001b[0m \u001b[0mdf_pos\u001b[0m \u001b[0;34m=\u001b[0m \u001b[0mid_by_accurate_mass\u001b[0m\u001b[0;34m(\u001b[0m\u001b[0;34m'data/MS/standards/pos'\u001b[0m\u001b[0;34m,\u001b[0m \u001b[0;34m'positive'\u001b[0m\u001b[0;34m,\u001b[0m \u001b[0mremove_qbic\u001b[0m\u001b[0;34m=\u001b[0m\u001b[0;32mFalse\u001b[0m\u001b[0;34m)\u001b[0m\u001b[0;34m\u001b[0m\u001b[0;34m\u001b[0m\u001b[0m\n\u001b[1;32m      8\u001b[0m \u001b[0;34m\u001b[0m\u001b[0m\n",
      "\u001b[0;32m~/dev/cell-wall-metabolomics/src/workflows.py\u001b[0m in \u001b[0;36mid_by_accurate_mass\u001b[0;34m(mzML_directory, polarity, remove_qbic)\u001b[0m\n\u001b[1;32m     33\u001b[0m         \u001b[0mexp\u001b[0m \u001b[0;34m=\u001b[0m \u001b[0mfilter_experiment\u001b[0m\u001b[0;34m(\u001b[0m\u001b[0mexp\u001b[0m\u001b[0;34m,\u001b[0m \u001b[0mstart\u001b[0m \u001b[0;34m=\u001b[0m \u001b[0;36m120\u001b[0m\u001b[0;34m,\u001b[0m \u001b[0mend\u001b[0m \u001b[0;34m=\u001b[0m \u001b[0;36m550\u001b[0m\u001b[0;34m)\u001b[0m\u001b[0;34m\u001b[0m\u001b[0;34m\u001b[0m\u001b[0m\n\u001b[1;32m     34\u001b[0m \u001b[0;34m\u001b[0m\u001b[0m\n\u001b[0;32m---> 35\u001b[0;31m         fm = feature_detection(exp, mzML_file_name=mzML_file,\n\u001b[0m\u001b[1;32m     36\u001b[0m                                 mtd_params={\"mass_error_ppm\": 10.0, # default: 10\n\u001b[1;32m     37\u001b[0m                                     \u001b[0;34m\"noise_threshold_int\"\u001b[0m\u001b[0;34m:\u001b[0m \u001b[0;36m3000.0\u001b[0m\u001b[0;34m\u001b[0m\u001b[0;34m\u001b[0m\u001b[0m\n",
      "\u001b[0;32m~/dev/cell-wall-metabolomics/src/processing.py\u001b[0m in \u001b[0;36mfeature_detection\u001b[0;34m(exp, mtd_params, epd_params, ffm_params, mzML_file_name)\u001b[0m\n\u001b[1;32m    102\u001b[0m     \u001b[0;32mfor\u001b[0m \u001b[0mk\u001b[0m\u001b[0;34m,\u001b[0m \u001b[0mv\u001b[0m \u001b[0;32min\u001b[0m \u001b[0mmtd_params\u001b[0m\u001b[0;34m.\u001b[0m\u001b[0mitems\u001b[0m\u001b[0;34m(\u001b[0m\u001b[0;34m)\u001b[0m\u001b[0;34m:\u001b[0m\u001b[0;34m\u001b[0m\u001b[0;34m\u001b[0m\u001b[0m\n\u001b[1;32m    103\u001b[0m         \u001b[0mmtd_par\u001b[0m\u001b[0;34m.\u001b[0m\u001b[0msetValue\u001b[0m\u001b[0;34m(\u001b[0m\u001b[0mk\u001b[0m\u001b[0;34m,\u001b[0m \u001b[0mv\u001b[0m\u001b[0;34m)\u001b[0m\u001b[0;34m\u001b[0m\u001b[0;34m\u001b[0m\u001b[0m\n\u001b[0;32m--> 104\u001b[0;31m     \u001b[0mmtd\u001b[0m\u001b[0;34m.\u001b[0m\u001b[0msetParameters\u001b[0m\u001b[0;34m(\u001b[0m\u001b[0mmtd_par\u001b[0m\u001b[0;34m)\u001b[0m\u001b[0;34m\u001b[0m\u001b[0;34m\u001b[0m\u001b[0m\n\u001b[0m\u001b[1;32m    105\u001b[0m     \u001b[0mmtd\u001b[0m\u001b[0;34m.\u001b[0m\u001b[0mrun\u001b[0m\u001b[0;34m(\u001b[0m\u001b[0mexp\u001b[0m\u001b[0;34m,\u001b[0m \u001b[0mmass_traces\u001b[0m\u001b[0;34m,\u001b[0m \u001b[0;36m0\u001b[0m\u001b[0;34m)\u001b[0m\u001b[0;34m\u001b[0m\u001b[0;34m\u001b[0m\u001b[0m\n\u001b[1;32m    106\u001b[0m \u001b[0;34m\u001b[0m\u001b[0m\n",
      "\u001b[0;32mpyopenms/pyopenms_2.pyx\u001b[0m in \u001b[0;36mpyopenms.pyopenms_2.MassTraceDetection.setParameters\u001b[0;34m()\u001b[0m\n",
      "\u001b[0;31mRuntimeError\u001b[0m: MassTraceDetection: Wrong parameter type 'integer' for float parameter 'mass_error_ppm' given!"
     ]
    }
   ],
   "source": [
    "from src.processing import *\n",
    "from src.analysis import *\n",
    "from src.workflows import *\n",
    "from src.visualization import *\n",
    "\n",
    "df_neg = id_by_accurate_mass('data/MS/standards/neg', 'negative', remove_qbic=False)\n",
    "df_pos = id_by_accurate_mass('data/MS/standards/pos', 'positive', remove_qbic=False)\n",
    "\n",
    "df = combine_neg_pos_ids(df_neg, df_pos)\n",
    "\n",
    "df_mean, df_std, df_change = get_mean_std_change_df(df, [('C_F', 'T_F'), ('C_C', 'T_C'), ('C_FC', 'T_FC')])\n",
    "\n",
    "plot_intensities(df_mean, df_std, title='Bs. FOS Bruker: 200-1000 m/z pos/neg (n=2)', ylabel='intensity (AUC)')\n",
    "\n",
    "plot_fold_change(df_change, title='Bs. FOS Bruker: 200-1000 m/z pos/neg (n=2)', ylabel='log 2 fold change')\n",
    "\n",
    "plot_fold_change_heatmap(df_change, title='Bs. FOS Bruker: 200-1000 m/z pos/neg (n=2)')"
   ]
  }
 ],
 "metadata": {
  "interpreter": {
   "hash": "cdf6867db4a629fa485a7e970eded95f5d4ef0f92693ff21a204d40206e2f07f"
  },
  "kernelspec": {
   "display_name": "Python 3.9.7 64-bit ('pyopenms-nightly': virtualenv)",
   "language": "python",
   "name": "python3"
  },
  "language_info": {
   "codemirror_mode": {
    "name": "ipython",
    "version": 3
   },
   "file_extension": ".py",
   "mimetype": "text/x-python",
   "name": "python",
   "nbconvert_exporter": "python",
   "pygments_lexer": "ipython3",
   "version": "3.9.7"
  },
  "orig_nbformat": 4
 },
 "nbformat": 4,
 "nbformat_minor": 2
}
